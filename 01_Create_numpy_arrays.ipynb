{
 "cells": [
  {
   "cell_type": "markdown",
   "id": "47441dfa-a7a9-496a-a1a0-d9dbec5524fa",
   "metadata": {},
   "source": [
    "## Notebooks contains various ways by which we can create a numpy array.\n",
    "### Here is a consolidated list what i have tried below \n",
    "### np.array\n",
    "### np.zeros\n",
    "### np.once\n",
    "### np.full\n",
    "### np.arange\n",
    "### np.linespace\n",
    "### np.random.rand\n",
    "### np.random.randn\n",
    "### np.eye\n",
    "### np.loadtxt\n",
    "### Using pandas dataframe"
   ]
  },
  {
   "cell_type": "code",
   "execution_count": 36,
   "id": "24279bff-f952-434c-8fa2-dcf388612ae6",
   "metadata": {},
   "outputs": [],
   "source": [
    "import numpy as np\n",
    "import pandas as pd"
   ]
  },
  {
   "cell_type": "markdown",
   "id": "752f8c35-918c-4b51-88d6-8e659b2c8e8d",
   "metadata": {},
   "source": [
    "###Creating an array from a list"
   ]
  },
  {
   "cell_type": "code",
   "execution_count": 37,
   "id": "5fd081a8-b4dc-4007-b6b2-7b9ce0fabdc3",
   "metadata": {},
   "outputs": [
    {
     "name": "stdout",
     "output_type": "stream",
     "text": [
      "[[1 2 3]\n",
      " [4 5 6]]\n"
     ]
    }
   ],
   "source": [
    "arr=np.array([[1,2,3],[4,5,6]])\n",
    "print (arr)\n"
   ]
  },
  {
   "cell_type": "code",
   "execution_count": 38,
   "id": "08dbb9e7-17ab-46bd-b5d3-8f18eb2722db",
   "metadata": {},
   "outputs": [
    {
     "name": "stdout",
     "output_type": "stream",
     "text": [
      "[[[0. 0.]\n",
      "  [0. 0.]]\n",
      "\n",
      " [[0. 0.]\n",
      "  [0. 0.]]\n",
      "\n",
      " [[0. 0.]\n",
      "  [0. 0.]]]\n",
      "----------------------------------------------------------\n",
      "[[[1. 1.]\n",
      "  [1. 1.]]\n",
      "\n",
      " [[1. 1.]\n",
      "  [1. 1.]]\n",
      "\n",
      " [[1. 1.]\n",
      "  [1. 1.]]]\n",
      "----------------------------------------------------------\n",
      "[[[5 5]\n",
      "  [5 5]]\n",
      "\n",
      " [[5 5]\n",
      "  [5 5]]\n",
      "\n",
      " [[5 5]\n",
      "  [5 5]]]\n"
     ]
    }
   ],
   "source": [
    "#Creating an array of zeros of a given size\n",
    "arr=np.zeros((3,2,2))\n",
    "print (arr)\n",
    "print (\"----------------------------------------------------------\")\n",
    "\n",
    "#Creating an array of once of a given size\n",
    "arr=np.ones((3,2,2))\n",
    "print (arr)\n",
    "print (\"----------------------------------------------------------\")\n",
    "\n",
    "#Creating an array of given size with given number\n",
    "arr=np.full((3,2,2),5)\n",
    "print (arr)"
   ]
  },
  {
   "cell_type": "code",
   "execution_count": 39,
   "id": "931e1a9d-9ede-462a-8be3-ef806a5feeab",
   "metadata": {},
   "outputs": [
    {
     "name": "stdout",
     "output_type": "stream",
     "text": [
      "[ 2  5  8 11 14]\n",
      "----------------------------------------------------------\n",
      "[ 1.          1.64285714  2.28571429  2.92857143  3.57142857  4.21428571\n",
      "  4.85714286  5.5         6.14285714  6.78571429  7.42857143  8.07142857\n",
      "  8.71428571  9.35714286 10.        ]\n"
     ]
    }
   ],
   "source": [
    "#Creating an array between a range with a specific step, end exclusive\n",
    "arr=np.arange(2,15,3)\n",
    "print (arr)\n",
    "print (\"----------------------------------------------------------\")\n",
    "\n",
    "#Creating an array of a given number of elements within range start and end both inclusive\n",
    "arr=np.linspace(1,10,15)\n",
    "print (arr)\n"
   ]
  },
  {
   "cell_type": "code",
   "execution_count": 40,
   "id": "a8f881d9-acba-4189-91f9-e5b5b9096522",
   "metadata": {},
   "outputs": [
    {
     "name": "stdout",
     "output_type": "stream",
     "text": [
      "[[-0.71132014  0.45939712  0.1112171   0.46888264  0.08521265  0.12761527\n",
      "  -0.80699792  0.75567696  0.37311783  0.46603768]\n",
      " [ 0.76454751 -0.86701926 -0.62466829  0.46109201 -0.41479612  0.26685564\n",
      "   1.31106704  0.9527346  -0.42543359  0.76243286]\n",
      " [-0.05923617  0.25325763  0.03005219 -0.01018634  1.7175148   0.43323869\n",
      "   1.11049345  0.35239006 -0.14243603  0.27576613]\n",
      " [-0.32381569  2.04361889 -2.01674422  0.57819085  0.87787543 -1.40936923\n",
      "  -1.02690447 -0.49705965 -1.35592679  1.08727158]\n",
      " [ 0.52548418  0.194853    0.22088466 -0.70265977 -1.23574396  0.30477672\n",
      "  -0.27119482  0.52195547  0.87880072  1.12162055]]\n",
      "----------------------------------------------------------\n",
      "[[1. 0. 0. 0.]\n",
      " [0. 1. 0. 0.]\n",
      " [0. 0. 1. 0.]\n",
      " [0. 0. 0. 1.]]\n"
     ]
    }
   ],
   "source": [
    "#Creating an array random number within a range\n",
    "arr=np.random.randn(5,10)\n",
    "print (arr)\n",
    "print (\"----------------------------------------------------------\")\n",
    "\n",
    "#Creating an identity martix\n",
    "arr=np.eye(4)\n",
    "print (arr)"
   ]
  },
  {
   "cell_type": "code",
   "execution_count": 41,
   "id": "6e93dc4d-e0f4-4298-bc66-55a71db84569",
   "metadata": {},
   "outputs": [
    {
     "name": "stdout",
     "output_type": "stream",
     "text": [
      "[[1. 2. 3.]\n",
      " [4. 5. 6.]\n",
      " [7. 8. 9.]]\n"
     ]
    }
   ],
   "source": [
    "#Creating an array from a text file\n",
    "arr=np.loadtxt('Numpyarray.txt')\n",
    "print (arr)"
   ]
  },
  {
   "cell_type": "code",
   "execution_count": 42,
   "id": "e1c629aa-3874-4f35-b34a-1e978f66bfd0",
   "metadata": {},
   "outputs": [
    {
     "name": "stdout",
     "output_type": "stream",
     "text": [
      "[[10 20 30]\n",
      " [40 50 60]]\n"
     ]
    }
   ],
   "source": [
    "#Reading data from csv using pandas and then creating a numpy array\n",
    "df=pd.read_csv('Numpyarray.csv')\n",
    "arr=df.to_numpy()\n",
    "print(arr)"
   ]
  }
 ],
 "metadata": {
  "kernelspec": {
   "display_name": "Python 3 (ipykernel)",
   "language": "python",
   "name": "python3"
  },
  "language_info": {
   "codemirror_mode": {
    "name": "ipython",
    "version": 3
   },
   "file_extension": ".py",
   "mimetype": "text/x-python",
   "name": "python",
   "nbconvert_exporter": "python",
   "pygments_lexer": "ipython3",
   "version": "3.10.0"
  }
 },
 "nbformat": 4,
 "nbformat_minor": 5
}
